{
 "cells": [
  {
   "cell_type": "code",
   "execution_count": 1,
   "id": "9f32f7a0",
   "metadata": {},
   "outputs": [
    {
     "name": "stderr",
     "output_type": "stream",
     "text": [
      "[nltk_data] Downloading package stopwords to\n",
      "[nltk_data]     C:\\Users\\venug\\AppData\\Roaming\\nltk_data...\n",
      "[nltk_data]   Package stopwords is already up-to-date!\n"
     ]
    }
   ],
   "source": [
    "import csv\n",
    "import nltk\n",
    "from nltk.corpus import stopwords\n",
    "\n",
    "# Download NLTK stopwords (if not already downloaded)\n",
    "nltk.download('stopwords')\n",
    "\n",
    "# Load NLTK stopwords\n",
    "stop_words = set(stopwords.words('english'))\n",
    "\n",
    "# Define a function to filter out stopwords and create a new CSV file\n",
    "def filter_stopwords(input_csv, output_csv):\n",
    "    with open(input_csv, 'r', encoding='latin-1') as csv_file:  # Use 'latin-1' encoding\n",
    "        reader = csv.reader(csv_file)\n",
    "        header = next(reader)  # Read the header row\n",
    "        word_index = header.index('Word')\n",
    "        frequency_index = header.index('Frequency')\n",
    "\n",
    "        filtered_words = []\n",
    "\n",
    "        for row in reader:\n",
    "            word = row[word_index]\n",
    "            if word.lower() not in stop_words:  # Convert word to lowercase for case-insensitive matching\n",
    "                filtered_words.append((word, row[frequency_index]))\n",
    "\n",
    "    with open(output_csv, 'w', newline='', encoding='utf-8') as output_file:  # Specify 'utf-8' encoding for the output\n",
    "        writer = csv.writer(output_file)\n",
    "        writer.writerow(['Word', 'Frequency'])\n",
    "        writer.writerows(filtered_words)\n",
    "\n",
    "# Specify input and output CSV file paths\n",
    "input_csv = 'all_words.csv'\n",
    "output_csv = 'all_ns_words.csv'\n",
    "\n",
    "# Call the filter_stopwords function to filter stopwords and create the new CSV file\n",
    "filter_stopwords(input_csv, output_csv)\n"
   ]
  },
  {
   "cell_type": "code",
   "execution_count": 2,
   "id": "77c23039",
   "metadata": {},
   "outputs": [],
   "source": [
    "import csv\n",
    "from collections import defaultdict\n",
    "\n",
    "# Step 1: Read the CSV file and store word frequencies in a dictionary\n",
    "word_frequencies = defaultdict(int)\n",
    "total_word_count = 0\n",
    "\n",
    "file_path = 'all_ns_words.csv'  # Input and output file path\n",
    "\n",
    "with open(file_path, 'r', encoding='utf-8') as csv_file:\n",
    "    reader = csv.reader(csv_file)\n",
    "    header = next(reader)  # Read the header row\n",
    "    \n",
    "    for row in reader:\n",
    "        word = row[0]\n",
    "        frequency = int(row[1])\n",
    "        word_frequencies[word] = frequency\n",
    "        total_word_count += frequency\n",
    "\n",
    "# Step 2: Calculate and add the probability column to the CSV file\n",
    "with open(file_path, 'w', newline='', encoding='utf-8') as csv_file:\n",
    "    writer = csv.writer(csv_file)\n",
    "    writer.writerow(['Word', 'Frequency', 'Probability'])\n",
    "    \n",
    "    for word, frequency in word_frequencies.items():\n",
    "        probability = frequency / total_word_count\n",
    "        writer.writerow([word, frequency, probability])\n"
   ]
  },
  {
   "cell_type": "code",
   "execution_count": null,
   "id": "63fc72a0",
   "metadata": {},
   "outputs": [],
   "source": []
  }
 ],
 "metadata": {
  "kernelspec": {
   "display_name": "Python 3 (ipykernel)",
   "language": "python",
   "name": "python3"
  },
  "language_info": {
   "codemirror_mode": {
    "name": "ipython",
    "version": 3
   },
   "file_extension": ".py",
   "mimetype": "text/x-python",
   "name": "python",
   "nbconvert_exporter": "python",
   "pygments_lexer": "ipython3",
   "version": "3.11.4"
  }
 },
 "nbformat": 4,
 "nbformat_minor": 5
}
